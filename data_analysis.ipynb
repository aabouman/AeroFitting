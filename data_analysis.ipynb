{
 "cells": [
  {
   "cell_type": "code",
   "execution_count": 1,
   "metadata": {},
   "outputs": [],
   "source": [
    "using Pkg\n",
    "Pkg.activate(@__DIR__);\n",
    "Pkg.instantiate()"
   ]
  },
  {
   "cell_type": "code",
   "execution_count": 2,
   "metadata": {},
   "outputs": [],
   "source": [
    "using CSV\n",
    "using DataFrames\n",
    "using Symbolics\n",
    "using SparseArrays\n",
    "using StaticArrays\n",
    "using LinearAlgebra\n",
    "using ForwardDiff"
   ]
  },
  {
   "cell_type": "code",
   "execution_count": 3,
   "metadata": {},
   "outputs": [
    {
     "data": {
      "text/plain": [
       "(12363, 17)"
      ]
     },
     "execution_count": 3,
     "metadata": {},
     "output_type": "execute_result"
    }
   ],
   "source": [
    "df = CSV.read(\"processed_data/merged_2021-02-03-16-55-55_seg_2.csv\", DataFrame)\n",
    "# names(df)\n",
    "\n",
    "p = Matrix(df[!, [\"pos x\",\"pos y\",\"pos z\"]])\n",
    "v = Matrix(df[!, [\"vel x\",\"vel y\",\"vel z\"]])\n",
    "v̇ = Matrix(df[!, [\"acc x\",\"acc y\",\"acc z\"]])\n",
    "ω = Matrix(df[!, [\"ang vel x\",\"ang vel y\",\"ang vel z\"]])\n",
    "ω̇ = Matrix(df[!, [\"ang acc x\",\"ang acc y\",\"ang acc z\"]])\n",
    "Ω = Matrix(df[!, [\"mot 1\",\"mot 2\",\"mot 3\",\"mot 4\"]])\n",
    "Ω̇ = Matrix(df[!, [\"dmot 1\",\"dmot 2\",\"dmot 3\",\"dmot 4\"]]);\n",
    "\n",
    "𝕏𝑓 = hcat(v, ω, Ω);\n",
    "𝕏𝑡 = hcat(v, ω, ω̇, Ω, Ω̇);\n",
    "\n",
    "size(𝕏𝑡)"
   ]
  },
  {
   "cell_type": "code",
   "execution_count": 21,
   "metadata": {},
   "outputs": [
    {
     "data": {
      "text/plain": [
       "87"
      ]
     },
     "execution_count": 21,
     "metadata": {},
     "output_type": "execute_result"
    }
   ],
   "source": [
    "3 * (14*2 + 1)"
   ]
  },
  {
   "cell_type": "code",
   "execution_count": 22,
   "metadata": {},
   "outputs": [
    {
     "data": {
      "text/plain": [
       "29"
      ]
     },
     "execution_count": 22,
     "metadata": {},
     "output_type": "execute_result"
    }
   ],
   "source": [
    "14*2 + 1"
   ]
  },
  {
   "cell_type": "code",
   "execution_count": 49,
   "metadata": {},
   "outputs": [
    {
     "data": {
      "text/plain": [
       "cost (generic function with 1 method)"
      ]
     },
     "execution_count": 49,
     "metadata": {},
     "output_type": "execute_result"
    }
   ],
   "source": [
    "function residual(\n",
    "    x::MVector{17},\n",
    "    β::MVector{93},\n",
    ")\n",
    "    v, ω, ω̇, Ω, Ω̇ = x[1:3], x[4:6], x[7:9], x[10:13], x[14:17]\n",
    "\n",
    "    # D ∈ ℝ³ˣ²¹¹ \n",
    "    D = reshape(β[1:87], 3, 29)\n",
    "    J₁₁, J₁₂, J₁₃, J₂₂, J₂₃, J₃₃ = β[end-5:end]\n",
    "    𝕁 = [J₁₁  J₁₂  J₁₃;\n",
    "         J₁₂  J₂₂  J₂₃;\n",
    "         J₁₃  J₂₃  J₃₃];\n",
    "\n",
    "    # Body torque\n",
    "    τ = 𝕁 * ω̇ + ω × (𝕁 * ω)\n",
    "\n",
    "    # Quadratic model\n",
    "    y = [v; ω; Ω; Ω̇]\n",
    "    # z = [1; y; kron(y, y)]\n",
    "    z = [1; y; y.*y]\n",
    "\n",
    "    τ̂ = D * z\n",
    "\n",
    "    r = τ - τ̂\n",
    "    return r\n",
    "end\n",
    "\n",
    "function residual_vec(X::Matrix, β::MVector{93, T}) where {T}\n",
    "    N = size(X)[1]\n",
    "    X = MMatrix{N, 17}(X)\n",
    "    𝐫 = zeros(T, 3, N)\n",
    "\n",
    "    for i in 1:N\n",
    "        𝐫[:, i] .= residual(X[i,:], β)\n",
    "        # 𝐫[:, i] .= residual(MVector{17}(X[i,:]), β)\n",
    "    end\n",
    "\n",
    "    return vec(𝐫)\n",
    "end\n",
    "\n",
    "function cost(X, β)\n",
    "    𝐫 = residual_vec(X, β) \n",
    "    S = 𝐫' * 𝐫\n",
    "    return S\n",
    "end"
   ]
  },
  {
   "cell_type": "code",
   "execution_count": 50,
   "metadata": {},
   "outputs": [
    {
     "data": {
      "text/plain": [
       "(12363, 17)"
      ]
     },
     "execution_count": 50,
     "metadata": {},
     "output_type": "execute_result"
    }
   ],
   "source": [
    "size(𝕏𝑡)"
   ]
  },
  {
   "cell_type": "code",
   "execution_count": 51,
   "metadata": {},
   "outputs": [],
   "source": [
    "β = @MVector rand(93)\n",
    "𝐫 = residual_vec(𝕏𝑡[1:10:end,:], β)"
   ]
  },
  {
   "cell_type": "code",
   "execution_count": 31,
   "metadata": {},
   "outputs": [
    {
     "data": {
      "text/plain": [
       "13×17 Matrix{Float64}:\n",
       " -0.0220132  -0.0505215  -0.00238934  …     28.2541   -753.627    -79.0421\n",
       "  0.706389    0.082822    0.00133852      -760.802     788.097    371.144\n",
       "  1.34686    -0.207984    0.376801        -638.4     -1194.51     367.391\n",
       "  1.26385    -2.24899     0.774266       -1157.0      -761.463  -1137.05\n",
       " -1.60732     1.25156     2.47652          -87.5965  -2433.27   -2931.24\n",
       " -1.09119    -1.80517     3.80418     …    105.809   -1999.12   -1925.48\n",
       " -2.67725     5.70941     0.633674        -329.01     1876.27    3833.92\n",
       "  1.64937    -2.94585     1.53701        -2295.7     -1595.02   -1050.79\n",
       "  1.96375     0.924174   -1.27693        -2426.68      668.464   5266.45\n",
       "  1.03264    -0.443507   -0.997216        2563.94    -1078.51    2420.15\n",
       "  0.292178    2.72825     0.10056     …   -102.376     773.502    247.756\n",
       "  0.382385    1.39379     0.085851          67.4603   -807.286   -129.425\n",
       "  0.253844    0.0313993  -0.0107087        198.806     464.724     80.0589"
      ]
     },
     "execution_count": 31,
     "metadata": {},
     "output_type": "execute_result"
    }
   ],
   "source": [
    "𝕏𝑡[1:1000:end,:]"
   ]
  },
  {
   "cell_type": "code",
   "execution_count": 32,
   "metadata": {},
   "outputs": [
    {
     "ename": "LoadError",
     "evalue": "MethodError: no method matching Float64(::ForwardDiff.Dual{ForwardDiff.Tag{var\"#1#2\", Float64}, Float64, 93})\n\u001b[0mClosest candidates are:\n\u001b[0m  (::Type{T})(::Real, \u001b[91m::RoundingMode\u001b[39m) where T<:AbstractFloat at rounding.jl:200\n\u001b[0m  (::Type{T})(::T) where T<:Number at boot.jl:760\n\u001b[0m  (::Type{T})(\u001b[91m::AbstractChar\u001b[39m) where T<:Union{AbstractChar, Number} at char.jl:50\n\u001b[0m  ...",
     "output_type": "error",
     "traceback": [
      "MethodError: no method matching Float64(::ForwardDiff.Dual{ForwardDiff.Tag{var\"#1#2\", Float64}, Float64, 93})\n\u001b[0mClosest candidates are:\n\u001b[0m  (::Type{T})(::Real, \u001b[91m::RoundingMode\u001b[39m) where T<:AbstractFloat at rounding.jl:200\n\u001b[0m  (::Type{T})(::T) where T<:Number at boot.jl:760\n\u001b[0m  (::Type{T})(\u001b[91m::AbstractChar\u001b[39m) where T<:Union{AbstractChar, Number} at char.jl:50\n\u001b[0m  ...",
      "",
      "Stacktrace:",
      "  [1] convert(#unused#::Type{Float64}, x::ForwardDiff.Dual{ForwardDiff.Tag{var\"#1#2\", Float64}, Float64, 93})",
      "    @ Base ./number.jl:7",
      "  [2] setindex!(A::Matrix{Float64}, x::ForwardDiff.Dual{ForwardDiff.Tag{var\"#1#2\", Float64}, Float64, 93}, i1::Int64)",
      "    @ Base ./array.jl:839",
      "  [3] setindex!",
      "    @ ./subarray.jl:341 [inlined]",
      "  [4] copyto_unaliased!",
      "    @ ./abstractarray.jl:970 [inlined]",
      "  [5] copyto!(dest::SubArray{Float64, 1, Matrix{Float64}, Tuple{Base.Slice{Base.OneTo{Int64}}, Int64}, true}, src::Vector{ForwardDiff.Dual{ForwardDiff.Tag{var\"#1#2\", Float64}, Float64, 93}})",
      "    @ Base ./abstractarray.jl:950",
      "  [6] copyto!",
      "    @ ./broadcast.jl:977 [inlined]",
      "  [7] copyto!",
      "    @ ./broadcast.jl:936 [inlined]",
      "  [8] materialize!",
      "    @ ./broadcast.jl:894 [inlined]",
      "  [9] materialize!",
      "    @ ./broadcast.jl:891 [inlined]",
      " [10] residual_vec(X::Matrix{Float64}, β::MVector{93, ForwardDiff.Dual{ForwardDiff.Tag{var\"#1#2\", Float64}, Float64, 93}})",
      "    @ Main ./In[26]:33",
      " [11] (::var\"#1#2\")(_β::MVector{93, ForwardDiff.Dual{ForwardDiff.Tag{var\"#1#2\", Float64}, Float64, 93}})",
      "    @ Main ./In[32]:1",
      " [12] static_dual_eval(#unused#::Type{ForwardDiff.Tag{var\"#1#2\", Float64}}, f::var\"#1#2\", x::MVector{93, Float64})",
      "    @ ForwardDiff ~/.julia/packages/ForwardDiff/CkdHU/src/apiutils.jl:32",
      " [13] vector_mode_jacobian(f::Function, x::MVector{93, Float64})",
      "    @ ForwardDiff ~/.julia/packages/ForwardDiff/CkdHU/src/jacobian.jl:185",
      " [14] jacobian(f::Function, x::MVector{93, Float64})",
      "    @ ForwardDiff ~/.julia/packages/ForwardDiff/CkdHU/src/jacobian.jl:85",
      " [15] top-level scope",
      "    @ In[32]:1",
      " [16] eval",
      "    @ ./boot.jl:360 [inlined]",
      " [17] include_string(mapexpr::typeof(REPL.softscope), mod::Module, code::String, filename::String)",
      "    @ Base ./loading.jl:1094"
     ]
    }
   ],
   "source": [
    "ForwardDiff.jacobian(_β->residual_vec(𝕏𝑡[1:1000:end,:], _β), β)"
   ]
  },
  {
   "cell_type": "code",
   "execution_count": 29,
   "metadata": {},
   "outputs": [
    {
     "data": {
      "text/plain": [
       "39-element Vector{Float64}:\n",
       " -2.391641704355393e6\n",
       " -3.293338929697577e6\n",
       " -3.3024152976426794e6\n",
       " -2.516777300634501e6\n",
       " -3.5390422077605906e6\n",
       " -3.777383434124063e6\n",
       " -3.827458777198678e6\n",
       " -4.204798543450791e6\n",
       " -6.517294443026971e6\n",
       " -3.6831163584902324e6\n",
       " -4.498992245201497e6\n",
       " -4.795546299034991e6\n",
       " -1.2096313909384664e7\n",
       "  ⋮\n",
       " -1.057387341930676e7\n",
       " -1.410614853985585e7\n",
       " -1.2570222628983347e7\n",
       " -2.801154591712602e6\n",
       " -3.733042552253871e6\n",
       " -3.914324077995674e6\n",
       " -2.432317738674514e6\n",
       " -3.3576010122908163e6\n",
       " -3.4702531776609328e6\n",
       " -2.419482776945394e6\n",
       " -3.2027514965958367e6\n",
       " -3.174715271747858e6"
      ]
     },
     "execution_count": 29,
     "metadata": {},
     "output_type": "execute_result"
    }
   ],
   "source": [
    "residual_vec(𝕏𝑡[1:1000:end,:], β)"
   ]
  },
  {
   "cell_type": "code",
   "execution_count": 12,
   "metadata": {},
   "outputs": [],
   "source": [
    "using CSV\n",
    "using DataFrames\n",
    "using StaticArrays\n",
    "export LinearAlgebra: ×, norm"
   ]
  },
  {
   "cell_type": "code",
   "execution_count": 15,
   "metadata": {},
   "outputs": [],
   "source": [
    "df = CSV.read(\"processed_data/merged_2021-02-03-16-55-55_seg_2.csv\", DataFrame)\n",
    "# names(df)\n",
    "\n",
    "p = Matrix(df[!, [\"pos x\",\"pos y\",\"pos z\"]])\n",
    "v = Matrix(df[!, [\"vel x\",\"vel y\",\"vel z\"]])\n",
    "v̇ = Matrix(df[!, [\"acc x\",\"acc y\",\"acc z\"]])\n",
    "ω = Matrix(df[!, [\"ang vel x\",\"ang vel y\",\"ang vel z\"]])\n",
    "ω̇ = Matrix(df[!, [\"ang acc x\",\"ang acc y\",\"ang acc z\"]])\n",
    "Ω = Matrix(df[!, [\"mot 1\",\"mot 2\",\"mot 3\",\"mot 4\"]])\n",
    "Ω̇ = Matrix(df[!, [\"dmot 1\",\"dmot 2\",\"dmot 3\",\"dmot 4\"]]);\n",
    "\n",
    "𝕏𝑓 = hcat(v, ω, Ω);\n",
    "𝕏𝑡 = hcat(v, ω, Ω, Ω̇);"
   ]
  },
  {
   "cell_type": "code",
   "execution_count": 20,
   "metadata": {},
   "outputs": [],
   "source": [
    "𝕏𝑓 = hcat(v, ω, Ω);\n",
    "𝕏𝑡 = hcat(v, ω, Ω, Ω̇);"
   ]
  },
  {
   "cell_type": "code",
   "execution_count": 21,
   "metadata": {},
   "outputs": [
    {
     "data": {
      "text/plain": [
       "(12363, 14)"
      ]
     },
     "execution_count": 21,
     "metadata": {},
     "output_type": "execute_result"
    }
   ],
   "source": [
    "size(𝕏𝑡)"
   ]
  },
  {
   "cell_type": "code",
   "execution_count": null,
   "metadata": {},
   "outputs": [],
   "source": [
    "function quad_moments(\n",
    "                      x::SArray{6},\n",
    "                    #   ω::SArray{3}, \n",
    "                    #   ω̇::SArray{3}, \n",
    "                      J::SArray{3,3}\n",
    "                      )\n",
    "    ω, ω̇ = x[1:3], x[4:6]\n",
    "\n",
    "    τ = J * ω̇ + ω × (J * ω)\n",
    "    return τ\n",
    "end\n",
    "\n",
    "function cost_function(x::SArray{6})\n",
    "    norm( - x)\n",
    "end\n",
    "\n",
    "function residual(β::SArray{20}, xᵢ::SArray{14}, )\n",
    "\n",
    "    J₁₁, J₁₂, J₁₃, J₂₂, J₂₃, J₃₃ = β[]\n",
    "\n",
    "end"
   ]
  },
  {
   "cell_type": "code",
   "execution_count": null,
   "metadata": {},
   "outputs": [],
   "source": []
  },
  {
   "cell_type": "code",
   "execution_count": null,
   "metadata": {},
   "outputs": [],
   "source": []
  },
  {
   "cell_type": "code",
   "execution_count": null,
   "metadata": {},
   "outputs": [],
   "source": [
    "plt = plot3d(\n",
    "    1,\n",
    "    xlim = (-30, 30),\n",
    "    ylim = (-30, 30),\n",
    "    zlim = (0, 60),\n",
    "    title = \"Lorenz Attractor\",\n",
    "    marker = 2,\n",
    ")\n",
    "\n",
    "# build an animated gif by pushing new points to the plot, saving every 10th frame\n",
    "@gif for i=1:1500\n",
    "    step!(attractor)\n",
    "    push!(plt, attractor.x, attractor.y, attractor.z)\n",
    "end every 10"
   ]
  },
  {
   "cell_type": "code",
   "execution_count": 47,
   "metadata": {},
   "outputs": [
    {
     "name": "stdout",
     "output_type": "stream",
     "text": [
      "search: \u001b[0m\u001b[1mp\u001b[22m\u001b[0m\u001b[1ml\u001b[22m\u001b[0m\u001b[1mo\u001b[22m\u001b[0m\u001b[1mt\u001b[22m\u001b[0m\u001b[1m3\u001b[22m\u001b[0m\u001b[1md\u001b[22m\u001b[0m\u001b[1m!\u001b[22m \u001b[0m\u001b[1mp\u001b[22m\u001b[0m\u001b[1ml\u001b[22m\u001b[0m\u001b[1mo\u001b[22m\u001b[0m\u001b[1mt\u001b[22m\u001b[0m\u001b[1m3\u001b[22m\u001b[0m\u001b[1md\u001b[22m\n",
      "\n"
     ]
    },
    {
     "data": {
      "text/latex": [
       "No documentation found.\n",
       "\n",
       "\\texttt{Plots.plot3d!} is a \\texttt{Function}.\n",
       "\n",
       "\\begin{verbatim}\n",
       "# 1 method for generic function \"plot3d!\":\n",
       "[1] plot3d!(args...; kw...) in Plots at /Users/AlexanderBouman/.julia/packages/Plots/qbc7U/src/shorthands.jl:410\n",
       "\\end{verbatim}\n"
      ],
      "text/markdown": [
       "No documentation found.\n",
       "\n",
       "`Plots.plot3d!` is a `Function`.\n",
       "\n",
       "```\n",
       "# 1 method for generic function \"plot3d!\":\n",
       "[1] plot3d!(args...; kw...) in Plots at /Users/AlexanderBouman/.julia/packages/Plots/qbc7U/src/shorthands.jl:410\n",
       "```\n"
      ],
      "text/plain": [
       "  No documentation found.\n",
       "\n",
       "  \u001b[36mPlots.plot3d!\u001b[39m is a \u001b[36mFunction\u001b[39m.\n",
       "\n",
       "\u001b[36m  # 1 method for generic function \"plot3d!\":\u001b[39m\n",
       "\u001b[36m  [1] plot3d!(args...; kw...) in Plots at /Users/AlexanderBouman/.julia/packages/Plots/qbc7U/src/shorthands.jl:410\u001b[39m"
      ]
     },
     "execution_count": 47,
     "metadata": {},
     "output_type": "execute_result"
    }
   ],
   "source": [
    "?plot3d!"
   ]
  },
  {
   "cell_type": "code",
   "execution_count": 56,
   "metadata": {},
   "outputs": [],
   "source": [
    "ExampleInputDF"
   ]
  },
  {
   "cell_type": "code",
   "execution_count": null,
   "metadata": {},
   "outputs": [],
   "source": []
  }
 ],
 "metadata": {
  "kernelspec": {
   "display_name": "Julia 1.6.1",
   "language": "julia",
   "name": "julia-1.6"
  },
  "language_info": {
   "file_extension": ".jl",
   "mimetype": "application/julia",
   "name": "julia",
   "version": "1.6.1"
  },
  "orig_nbformat": 4
 },
 "nbformat": 4,
 "nbformat_minor": 2
}
