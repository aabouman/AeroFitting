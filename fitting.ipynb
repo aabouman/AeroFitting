{
 "cells": [
  {
   "cell_type": "markdown",
   "metadata": {},
   "source": [
    "$$\n",
    "    \\tau = J \\dot{\\omega} + \\omega \\times (J \\omega) \\\\\n",
    "    \\\\\n",
    "    \\tau = I J \\dot{\\omega} + \\hat{\\omega} J \\omega \\\\\n",
    "    \\\\\n",
    "    \\tau = (\\dot{\\omega}^T \\otimes I) \\text{vec}(J) + (\\omega^T \\otimes \\hat{\\omega}) \\text{vec}(J) \\\\\n",
    "    \\\\\n",
    "    \\tau = (\\dot{\\omega}^T \\otimes I + \\omega^T \\otimes \\hat{\\omega}) \\text{vec}(J) \\\\\n",
    "$$"
   ]
  },
  {
   "cell_type": "markdown",
   "metadata": {},
   "source": [
    "The model input is then $x$\n",
    "$$\n",
    "    x =\n",
    "    \\left[\\begin{array}{cccc}\n",
    "        v_B^T & \\omega_B^T & \\Omega^T & \\dot{\\Omega}^T \\\\\n",
    "    \\end{array}\\right] ^ T\\\\\n",
    "    x \\in \\mathbb{R}^{13}\\\\\n",
    "$$\n",
    "\n",
    "The matrix of coefficients is then defined as $C \\in \\mathbb{R}^{6 \\times 13}$."
   ]
  },
  {
   "cell_type": "code",
   "execution_count": 12,
   "metadata": {},
   "outputs": [
    {
     "data": {
      "text/plain": [
       "(183,)"
      ]
     },
     "metadata": {},
     "output_type": "display_data"
    }
   ],
   "source": [
    "x = rand(13)\n",
    "size([1; x; kron(x, x)])"
   ]
  },
  {
   "cell_type": "code",
   "execution_count": 15,
   "metadata": {},
   "outputs": [
    {
     "name": "stdout",
     "output_type": "stream",
     "text": [
      "6128487 4826809"
     ]
    }
   ],
   "source": [
    "print(183^3, \" \", 169^3)"
   ]
  },
  {
   "cell_type": "markdown",
   "metadata": {},
   "source": [
    "$$\n",
    "    z = \\left[\\begin{array}{c}\n",
    "        1 \\\\\n",
    "        x \\\\\n",
    "        x \\otimes x \\\\\n",
    "    \\end{array}\\right] \\in \\mathbb{R}^{183}\n",
    "$$\n",
    "$$\n",
    "    \\hat{\\tau} = C \\, z \\\\\n",
    "    C \\in \\mathbb{R}^{ 3 \\times 183 }\n",
    "$$"
   ]
  },
  {
   "cell_type": "markdown",
   "metadata": {},
   "source": [
    "$$\n",
    "    \\text{vec}(S) = A \\, \\text{vech}(S) : \\forall \\, S \\in Sym( \\mathbb{R^{3 \\times 3}}) \\\\\n",
    "    A = \\left[\\begin{array}{cccccc}\n",
    "        1 & 0 & 0 & 0 & 0 & 0 \\\\\n",
    "        0 & 1 & 0 & 0 & 0 & 0 \\\\\n",
    "        0 & 0 & 0 & 1 & 0 & 0 \\\\\n",
    "        0 & 1 & 0 & 0 & 0 & 0 \\\\\n",
    "        0 & 0 & 1 & 0 & 0 & 0 \\\\\n",
    "        0 & 0 & 0 & 0 & 1 & 0 \\\\\n",
    "        0 & 0 & 0 & 1 & 0 & 0 \\\\\n",
    "        0 & 0 & 0 & 0 & 1 & 0 \\\\\n",
    "        0 & 0 & 0 & 0 & 0 & 1 \\\\\n",
    "    \\end{array}\\right]\n",
    "$$"
   ]
  },
  {
   "cell_type": "markdown",
   "metadata": {},
   "source": [
    "$$\n",
    "    \\begin{aligned}\n",
    "        \\tau - \\hat{\\tau} &= \\underbrace{(\\dot{\\omega}^T \\otimes I + \\omega^T \\otimes \\hat{\\omega}) \\, A }_{B \\in \\mathbb{R}^{3 \\times 6}} \\, \\text{vech}(J) - C \\, z \\\\\n",
    "\n",
    "        \\tau - \\hat{\\tau} &= \\underbrace{(\\dot{\\omega}^T \\otimes I + \\omega^T \\otimes \\hat{\\omega}) \\, A }_{B \\in \\mathbb{R}^{3 \\times 6}} \\, \\underbrace{\\text{vech}(J)}_{j} - C \\, z \\\\\n",
    "\n",
    "        &= B \\, \\text{vech}(J) - C \\, z\\\\\n",
    "\n",
    "        &= \\left[\\begin{array}{cc} B & -C \\end{array}\\right] \n",
    "        \\left[\\begin{array}{c} \n",
    "            \\text{vech}(J) \\\\\n",
    "            z \n",
    "        \\end{array}\\right]\\\\\n",
    "    \\end{aligned}\n",
    "$$"
   ]
  },
  {
   "cell_type": "markdown",
   "metadata": {},
   "source": [
    "$$\n",
    "    \\begin{aligned}\n",
    "\n",
    "        \\tau - \\hat{\\tau} &= \\underbrace{(\\dot{\\omega}^T \\otimes I + \\omega^T \\otimes \\hat{\\omega}) \\, A }_{B \\in \\mathbb{R}^{3 \\times 6}} \\, \\underbrace{\\text{vech}(J)}_{j} - C \\, z \\\\\n",
    "\n",
    "        &= I_3 \\, B \\, j - C \\, z\\\\\n",
    "\n",
    "        &= (j^T \\otimes I_3) \\text{vec}(B) - C \\, z\\\\\n",
    "\n",
    "        &= \\left[\\begin{array}{cc} (j^T \\otimes I_3) & - C \\end{array}\\right] \n",
    "        \n",
    "        \\left[\\begin{array}{c} \n",
    "            \\text{vech}(B) \\\\\n",
    "            z \n",
    "        \\end{array}\\right]\\\\\n",
    "    \\end{aligned}\n",
    "$$"
   ]
  },
  {
   "cell_type": "markdown",
   "metadata": {},
   "source": [
    "$$\n",
    "    \\begin{aligned}\n",
    "\n",
    "        \\tau - \\hat{\\tau} &= \\underbrace{(\\dot{\\omega}^T \\otimes I + \\omega^T \\otimes \\hat{\\omega}) \\, A }_{B \\in \\mathbb{R}^{3 \\times 6}} \\, \\underbrace{\\text{vech}(J)}_{j} - C \\, z \\\\\n",
    "\n",
    "        &= I_3 \\, B \\, j - C \\, z\\\\\n",
    "\n",
    "        &= (j^T \\otimes I_3) \\text{vec}(B) - C \\, z\\\\\n",
    "\n",
    "        &= \\left[\\begin{array}{cc} (j^T \\otimes I_3) & - C \\end{array}\\right] \n",
    "        \n",
    "        \\left[\\begin{array}{c} \n",
    "            \\text{vech}(B) \\\\\n",
    "            z \n",
    "        \\end{array}\\right]\\\\\n",
    "    \\end{aligned}\n",
    "$$"
   ]
  },
  {
   "cell_type": "code",
   "execution_count": 2,
   "metadata": {},
   "outputs": [],
   "source": [
    "using LinearAlgebra\n",
    "using Symbolics\n",
    "using Latexify\n",
    "using CSV\n",
    "using DataFrames"
   ]
  },
  {
   "cell_type": "code",
   "execution_count": 10,
   "metadata": {},
   "outputs": [
    {
     "data": {
      "text/plain": [
       "3×6 Matrix{Float64}:\n",
       "  0.152073  0.712965  -0.0966919   1.13674    -0.108293   0.0966919\n",
       "  0.24326   0.248765   0.956225   -0.193743    0.851575  -0.24326\n",
       " -0.142581  0.302036   0.142581    0.0553808   1.19948    0.994156"
      ]
     },
     "metadata": {},
     "output_type": "display_data"
    }
   ],
   "source": [
    "hat(x) = [0. -x[3] x[2]; x[3] 0. -x[1]; -x[2] x[1] 0.]\n",
    "\n",
    "function vech(x)\n",
    "    k = size(x, 1)\n",
    "    a = zeros(eltype(x), Int((k^2-k)/2 + k))\n",
    "    m = 1\n",
    "    for i = 1:k\n",
    "        for j = 1:i\n",
    "            a[m] = x[i,j]\n",
    "            m += 1\n",
    "        end\n",
    "    end\n",
    "    a\n",
    "end\n",
    "\n",
    "A = [1 0 0 0 0 0;\n",
    "     0 1 0 0 0 0;\n",
    "     0 0 0 1 0 0;\n",
    "     0 1 0 0 0 0;\n",
    "     0 0 1 0 0 0;\n",
    "     0 0 0 0 1 0;\n",
    "     0 0 0 1 0 0;\n",
    "     0 0 0 0 1 0;\n",
    "     0 0 0 0 0 1];\n",
    "\n",
    "\n",
    "# @variables ω[1:3] ω̇[1:3] J[1:3, 1:3]\n",
    "ω = rand(3)\n",
    "ω̇ = rand(3)\n",
    "\n",
    "(kron(ω̇', I(3)) + kron(ω', hat(ω))) * A"
   ]
  },
  {
   "cell_type": "code",
   "execution_count": 8,
   "metadata": {},
   "outputs": [
    {
     "data": {
      "text/plain": [
       "9×6 Matrix{Int64}:\n",
       " 1  0  0  0  0  0\n",
       " 0  1  0  0  0  0\n",
       " 0  0  0  1  0  0\n",
       " 0  1  0  0  0  0\n",
       " 0  0  1  0  0  0\n",
       " 0  0  0  0  1  0\n",
       " 0  0  0  1  0  0\n",
       " 0  0  0  0  1  0\n",
       " 0  0  0  0  0  1"
      ]
     },
     "metadata": {},
     "output_type": "display_data"
    }
   ],
   "source": [
    "A"
   ]
  },
  {
   "cell_type": "code",
   "execution_count": 10,
   "metadata": {},
   "outputs": [
    {
     "data": {
      "text/latex": [
       "\\begin{equation}\n",
       "\\left[\n",
       "\\begin{array}{c}\n",
       "u \\\\\n",
       "v \\\\\n",
       "w \\\\\n",
       "v \\\\\n",
       "x \\\\\n",
       "y \\\\\n",
       "w \\\\\n",
       "y \\\\\n",
       "z \\\\\n",
       "\\end{array}\n",
       "\\right]\n",
       "\\end{equation}\n"
      ],
      "text/plain": [
       "9-element Vector{Num}:\n",
       " u\n",
       " v\n",
       " w\n",
       " v\n",
       " x\n",
       " y\n",
       " w\n",
       " y\n",
       " z"
      ]
     },
     "metadata": {},
     "output_type": "display_data"
    }
   ],
   "source": [
    "@variables u v w x y z\n",
    "\n",
    "test = [u v w; \n",
    "        v x y;\n",
    "        w y z];\n",
    "A = [1 0 0 0 0 0;\n",
    "     0 1 0 0 0 0;\n",
    "     0 0 0 1 0 0;\n",
    "     0 1 0 0 0 0;\n",
    "     0 0 1 0 0 0;\n",
    "     0 0 0 0 1 0;\n",
    "     0 0 0 1 0 0;\n",
    "     0 0 0 0 1 0;\n",
    "     0 0 0 0 0 1];\n",
    "b = vech(test)\n",
    "\n",
    "A * vech(test) "
   ]
  },
  {
   "cell_type": "markdown",
   "metadata": {},
   "source": []
  },
  {
   "cell_type": "code",
   "execution_count": 63,
   "metadata": {},
   "outputs": [
    {
     "data": {
      "text/plain": [
       "(12363, 17)"
      ]
     },
     "metadata": {},
     "output_type": "display_data"
    }
   ],
   "source": [
    "df = CSV.read(\"processed_data/merged_2021-02-03-16-55-55_seg_2.csv\", DataFrame)\n",
    "# names(df)\n",
    "\n",
    "p = Matrix(df[!, [\"pos x\",\"pos y\",\"pos z\"]])\n",
    "v = Matrix(df[!, [\"vel x\",\"vel y\",\"vel z\"]])\n",
    "v̇ = Matrix(df[!, [\"acc x\",\"acc y\",\"acc z\"]])\n",
    "ω = Matrix(df[!, [\"ang vel x\",\"ang vel y\",\"ang vel z\"]])\n",
    "ω̇ = Matrix(df[!, [\"ang acc x\",\"ang acc y\",\"ang acc z\"]])\n",
    "Ω = Matrix(df[!, [\"mot 1\",\"mot 2\",\"mot 3\",\"mot 4\"]])\n",
    "Ω̇ = Matrix(df[!, [\"dmot 1\",\"dmot 2\",\"dmot 3\",\"dmot 4\"]]);\n",
    "\n",
    "𝕏𝑓 = hcat(v, ω, Ω);\n",
    "𝕏𝑡 = hcat(v, ω, ω̇, Ω, Ω̇);\n",
    "\n",
    "size(𝕏𝑡)\n"
   ]
  },
  {
   "cell_type": "code",
   "execution_count": null,
   "metadata": {},
   "outputs": [],
   "source": [
    "function residual(\n",
    "    x::MVector{17},\n",
    "    β::MVector{93},\n",
    ")\n",
    "    v, ω, ω̇, Ω, Ω̇ = x[1:3], x[4:6], x[7:9], x[10:13], x[14:17]\n",
    "\n",
    "    # D ∈ ℝ³ˣ²¹¹ \n",
    "    D = reshape(β[1:87], 3, 29)\n",
    "    J₁₁, J₁₂, J₁₃, J₂₂, J₂₃, J₃₃ = β[end-5:end]\n",
    "    𝕁 = [J₁₁  J₁₂  J₁₃;\n",
    "         J₁₂  J₂₂  J₂₃;\n",
    "         J₁₃  J₂₃  J₃₃];\n",
    "\n",
    "    # Body torque\n",
    "    τ = 𝕁 * ω̇ + ω × (𝕁 * ω)\n",
    "\n",
    "    # Quadratic model\n",
    "    y = [v; ω; Ω; Ω̇]\n",
    "    # z = [1; y; kron(y, y)]\n",
    "    z = [1; y; y.*y]\n",
    "\n",
    "    τ̂ = D * z\n",
    "\n",
    "    r = τ - τ̂\n",
    "    return r\n",
    "end"
   ]
  }
 ],
 "metadata": {
  "kernelspec": {
   "display_name": "Julia 1.6.5",
   "language": "julia",
   "name": "julia-1.6"
  },
  "language_info": {
   "file_extension": ".jl",
   "mimetype": "application/julia",
   "name": "julia",
   "version": "1.6.5"
  },
  "orig_nbformat": 4
 },
 "nbformat": 4,
 "nbformat_minor": 2
}
