{
 "cells": [
  {
   "cell_type": "markdown",
   "metadata": {},
   "source": [
    "$$\n",
    "    \\tau = J \\dot{\\omega} + \\omega \\times (J \\omega) \\\\\n",
    "    \\tau = I J \\dot{\\omega} + \\hat{\\omega} J \\omega \\\\\n",
    "    \\tau = (\\dot{\\omega}^T \\otimes I) \\text{vec}(J) + (\\hat{\\omega} \\otimes \\omega) \\text{vec}(J) \\\\\n",
    "    \\tau = (\\dot{\\omega}^T \\otimes I + \\hat{\\omega} \\otimes \\omega) \\text{vec}(J) \\\\\n",
    "$$"
   ]
  },
  {
   "cell_type": "markdown",
   "metadata": {},
   "source": [
    "The model input is then $x$\n",
    "$$\n",
    "    x =\n",
    "    \\left[\\begin{array}{cccc}\n",
    "        v_B^T & \\omega_B^T & \\Omega^T & \\dot{\\Omega}^T \\\\\n",
    "    \\end{array}\\right] ^ T\\\\\n",
    "    x \\in \\mathbb{R}^{13}\\\\\n",
    "$$\n",
    "\n",
    "The matrix of coefficients is then defined as $C \\in \\mathbb{R}^{6 \\times 13}$."
   ]
  },
  {
   "cell_type": "markdown",
   "metadata": {},
   "source": [
    "$$\n",
    "    z = \\left[\\begin{array}{c}\n",
    "        1 \\\\\n",
    "        x \\\\\n",
    "        x \\otimes x \\\\\n",
    "    \\end{array}\\right] \\in \\mathbb{R}^{183}\n",
    "$$\n",
    "$$\n",
    "    \\hat{\\tau} = C z \\\\\n",
    "    C \\in \\mathbb{R}^{3 \\times 183}\n",
    "$$"
   ]
  },
  {
   "cell_type": "markdown",
   "metadata": {},
   "source": [
    "$$\n",
    "    \\text{vec}(S) = A \\, \\text{vech}(S) : \\forall Sym( \\mathbb{R^{3 \\times 3}}) \\\\\n",
    "    A = \\left[\\begin{array}{cccccc}\n",
    "        1 & 0 & 0 & 0 & 0 & 0 \\\\\n",
    "        0 & 1 & 0 & 0 & 0 & 0 \\\\\n",
    "        0 & 0 & 0 & 1 & 0 & 0 \\\\\n",
    "        0 & 1 & 0 & 0 & 0 & 0 \\\\\n",
    "        0 & 0 & 1 & 0 & 0 & 0 \\\\\n",
    "        0 & 0 & 0 & 0 & 1 & 0 \\\\\n",
    "        0 & 0 & 0 & 1 & 0 & 0 \\\\\n",
    "        0 & 0 & 0 & 0 & 1 & 0 \\\\\n",
    "        0 & 0 & 0 & 0 & 0 & 1 \\\\\n",
    "    \\end{array}\\right]\n",
    "$$"
   ]
  },
  {
   "cell_type": "markdown",
   "metadata": {},
   "source": [
    "$$\n",
    "    \\begin{aligned}\n",
    "        \\tau - \\hat{\\tau} &= \\underbrace{(I \\otimes \\dot{\\omega} + \\hat{\\omega} \\otimes \\omega) \\, A }_{B \\in \\mathbb{R}^{3 \\times 6}} \\, \\text{vech}(J) - C z \\\\\n",
    "        \n",
    "        &= \\left[\\begin{array}{cc} B & C \\end{array}\\right] \n",
    "        \\left[\\begin{array}{c} \n",
    "            \\text{vech}(J) \\\\\n",
    "            z \n",
    "        \\end{array}\\right]\\\\\n",
    "    \\end{aligned}\n",
    "$$"
   ]
  },
  {
   "cell_type": "markdown",
   "metadata": {},
   "source": [
    "$$\n",
    "    \\begin{aligned}\n",
    "        \\tau - \\hat{\\tau} &= \\underbrace{(I \\otimes \\dot{\\omega} + \\hat{\\omega} \\otimes \\omega)}_{B \\in \\mathbb{R}^{3 \\times 9}} \\text{vec}(J) - C z \\\\\n",
    "\n",
    "        &= \\left[\\begin{array}{cc} B & C \\end{array}\\right] \n",
    "        \\left[\\begin{array}{c} \n",
    "            \\text{vec}(J) \\\\\n",
    "            z \n",
    "        \\end{array}\\right]\\\\\n",
    "    \\end{aligned}\n",
    "$$"
   ]
  },
  {
   "cell_type": "code",
   "execution_count": 13,
   "metadata": {},
   "outputs": [],
   "source": [
    "x = rand(13)\n",
    "[1; x; kron(x, x)];"
   ]
  },
  {
   "cell_type": "code",
   "execution_count": 1,
   "metadata": {},
   "outputs": [],
   "source": [
    "using LinearAlgebra\n",
    "using Symbolics\n",
    "using Latexify"
   ]
  },
  {
   "cell_type": "code",
   "execution_count": 2,
   "metadata": {},
   "outputs": [],
   "source": [
    "# J * ω\n",
    "# kron(ω', Id) #* vec(J)\n",
    "# kron(I(3)', ω̇)\n",
    "# kron(ω̇', Id) * vec(J)"
   ]
  },
  {
   "cell_type": "code",
   "execution_count": 14,
   "metadata": {},
   "outputs": [
    {
     "data": {
      "text/plain": [
       "3×9 Matrix{Int64}:\n",
       " 1  0  0  2  0  0  3  0  0\n",
       " 0  1  0  0  2  0  0  3  0\n",
       " 0  0  1  0  0  2  0  0  3"
      ]
     },
     "metadata": {},
     "output_type": "display_data"
    }
   ],
   "source": [
    "Id = diagm(ones(Int,3))\n",
    "ω = [1;2;3]\n",
    "J = diagm([1;2;3])\n",
    "\n",
    "kron(ω', Id)"
   ]
  },
  {
   "cell_type": "code",
   "execution_count": 10,
   "metadata": {},
   "outputs": [
    {
     "data": {
      "text/plain": [
       "1×3 adjoint(::Vector{Int64}) with eltype Int64:\n",
       " 1  4  9"
      ]
     },
     "metadata": {},
     "output_type": "display_data"
    }
   ],
   "source": [
    "vec(J)' * kron(ω', Id)'"
   ]
  },
  {
   "cell_type": "code",
   "execution_count": null,
   "metadata": {},
   "outputs": [],
   "source": [
    "Id = diagm(ones(Int,3))\n",
    "kron(Id, ω̇)"
   ]
  },
  {
   "cell_type": "code",
   "execution_count": 55,
   "metadata": {},
   "outputs": [
    {
     "data": {
      "text/latex": [
       "\\begin{equation}\n",
       "\\left[\n",
       "\\begin{array}{ccc}\n",
       "\\omega\\dot{_1} & \\omega{_1} \\omega{_3} &  - \\omega{_1} \\omega{_2} \\\\\n",
       "\\omega\\dot{_2} & \\omega{_2} \\omega{_3} &  - \\omega{_2}^{2} \\\\\n",
       "\\omega\\dot{_3} & \\omega{_3}^{2} &  - \\omega{_2} \\omega{_3} \\\\\n",
       " - \\omega{_1} \\omega{_3} & \\omega\\dot{_1} & \\omega{_1}^{2} \\\\\n",
       " - \\omega{_2} \\omega{_3} & \\omega\\dot{_2} & \\omega{_1} \\omega{_2} \\\\\n",
       " - \\omega{_3}^{2} & \\omega\\dot{_3} & \\omega{_1} \\omega{_3} \\\\\n",
       "\\omega{_1} \\omega{_2} &  - \\omega{_1}^{2} & \\omega\\dot{_1} \\\\\n",
       "\\omega{_2}^{2} &  - \\omega{_1} \\omega{_2} & \\omega\\dot{_2} \\\\\n",
       "\\omega{_2} \\omega{_3} &  - \\omega{_1} \\omega{_3} & \\omega\\dot{_3} \\\\\n",
       "\\end{array}\n",
       "\\right]\n",
       "\\end{equation}\n"
      ],
      "text/plain": [
       "9×3 Matrix{Num}:\n",
       "      ω̇[1]   ω[1]*ω[3]  -ω[1]*ω[2]\n",
       "      ω̇[2]   ω[2]*ω[3]   -(ω[2]^2)\n",
       "      ω̇[3]      ω[3]^2  -ω[2]*ω[3]\n",
       " -ω[1]*ω[3]       ω̇[1]      ω[1]^2\n",
       " -ω[2]*ω[3]       ω̇[2]   ω[1]*ω[2]\n",
       "  -(ω[3]^2)       ω̇[3]   ω[1]*ω[3]\n",
       "  ω[1]*ω[2]   -(ω[1]^2)       ω̇[1]\n",
       "     ω[2]^2  -ω[1]*ω[2]       ω̇[2]\n",
       "  ω[2]*ω[3]  -ω[1]*ω[3]       ω̇[3]"
      ]
     },
     "metadata": {},
     "output_type": "display_data"
    }
   ],
   "source": [
    "kron(I(3)', ω̇) + kron(hat(ω)', ω)"
   ]
  },
  {
   "cell_type": "code",
   "execution_count": 15,
   "metadata": {},
   "outputs": [
    {
     "data": {
      "text/latex": [
       "\\begin{equation}\n",
       "\\left[\n",
       "\\begin{array}{c}\n",
       "J{{_1}}ˏ{_1} \\\\\n",
       "J{{_2}}ˏ{_1} \\\\\n",
       "J{{_3}}ˏ{_1} \\\\\n",
       "J{{_1}}ˏ{_2} \\\\\n",
       "J{{_2}}ˏ{_2} \\\\\n",
       "J{{_3}}ˏ{_2} \\\\\n",
       "J{{_1}}ˏ{_3} \\\\\n",
       "J{{_2}}ˏ{_3} \\\\\n",
       "J{{_3}}ˏ{_3} \\\\\n",
       "\\end{array}\n",
       "\\right]\n",
       "\\end{equation}\n"
      ],
      "text/plain": [
       "9-element reshape(::Symbolics.Arr{Num, 2}, 9) with eltype Num:\n",
       " J[1, 1]\n",
       " J[2, 1]\n",
       " J[3, 1]\n",
       " J[1, 2]\n",
       " J[2, 2]\n",
       " J[3, 2]\n",
       " J[1, 3]\n",
       " J[2, 3]\n",
       " J[3, 3]"
      ]
     },
     "metadata": {},
     "output_type": "display_data"
    }
   ],
   "source": [
    "@variables ω[1:3] ω̇[1:3] J[1:3, 1:3]\n",
    "hat(x) = [0. -x[3] x[2]; x[3] 0. -x[1]; -x[2] x[1] 0.]\n",
    "# (hat(ω) * J * ω)\n",
    "# (ω × (J * ω))\n",
    "vec(J)"
   ]
  },
  {
   "cell_type": "code",
   "execution_count": 39,
   "metadata": {},
   "outputs": [
    {
     "data": {
      "text/latex": [
       "\\begin{equation}\n",
       "\\left[\n",
       "\\begin{array}{c}\n",
       "u \\\\\n",
       "v \\\\\n",
       "x \\\\\n",
       "w \\\\\n",
       "y \\\\\n",
       "z \\\\\n",
       "\\end{array}\n",
       "\\right]\n",
       "\\end{equation}\n"
      ],
      "text/plain": [
       "6-element Vector{Num}:\n",
       " u\n",
       " v\n",
       " x\n",
       " w\n",
       " y\n",
       " z"
      ]
     },
     "metadata": {},
     "output_type": "display_data"
    }
   ],
   "source": [
    "function vech(x)\n",
    "    k = size(x, 1)\n",
    "    a = zeros(eltype(x), Int((k^2-k)/2 + k))\n",
    "    m = 1\n",
    "    for i = 1:k\n",
    "        for j = 1:i\n",
    "            a[m] = x[i,j]\n",
    "            m += 1\n",
    "        end\n",
    "    end\n",
    "    a\n",
    "end"
   ]
  },
  {
   "cell_type": "code",
   "execution_count": 53,
   "metadata": {},
   "outputs": [
    {
     "data": {
      "text/latex": [
       "\\begin{equation}\n",
       "\\left[\n",
       "\\begin{array}{c}\n",
       "u \\\\\n",
       "v \\\\\n",
       "w \\\\\n",
       "v \\\\\n",
       "x \\\\\n",
       "y \\\\\n",
       "w \\\\\n",
       "y \\\\\n",
       "z \\\\\n",
       "\\end{array}\n",
       "\\right]\n",
       "\\end{equation}\n"
      ],
      "text/plain": [
       "9-element Vector{Num}:\n",
       " u\n",
       " v\n",
       " w\n",
       " v\n",
       " x\n",
       " y\n",
       " w\n",
       " y\n",
       " z"
      ]
     },
     "metadata": {},
     "output_type": "display_data"
    }
   ],
   "source": [
    "@variables u v w x y z\n",
    "\n",
    "test = [u v w; \n",
    "        v x y;\n",
    "        w y z];\n",
    "A = [1 0 0 0 0 0;\n",
    "     0 1 0 0 0 0;\n",
    "     0 0 0 1 0 0;\n",
    "     0 1 0 0 0 0;\n",
    "     0 0 1 0 0 0;\n",
    "     0 0 0 0 1 0;\n",
    "     0 0 0 1 0 0;\n",
    "     0 0 0 0 1 0;\n",
    "     0 0 0 0 0 1];\n",
    "b = vech(test)\n",
    "\n",
    "A * vech(test) "
   ]
  },
  {
   "cell_type": "code",
   "execution_count": 56,
   "metadata": {},
   "outputs": [
    {
     "data": {
      "text/latex": [
       "\\begin{equation}\n",
       "\\left[\n",
       "\\begin{array}{c}\n",
       "\\left( u = u \\right) \\\\\n",
       "\\left( v = v \\right) \\\\\n",
       "\\left( w = w \\right) \\\\\n",
       "\\left( v = v \\right) \\\\\n",
       "\\left( x = x \\right) \\\\\n",
       "\\left( y = y \\right) \\\\\n",
       "\\left( w = w \\right) \\\\\n",
       "\\left( y = y \\right) \\\\\n",
       "\\left( z = z \\right) \\\\\n",
       "\\end{array}\n",
       "\\right]\n",
       "\\end{equation}\n"
      ],
      "text/plain": [
       "9-element Vector{Num}:\n",
       " u == u\n",
       " v == v\n",
       " w == w\n",
       " v == v\n",
       " x == x\n",
       " y == y\n",
       " w == w\n",
       " y == y\n",
       " z == z"
      ]
     },
     "metadata": {},
     "output_type": "display_data"
    }
   ],
   "source": [
    "A * vech(test) .== vec(test)"
   ]
  },
  {
   "cell_type": "code",
   "execution_count": 58,
   "metadata": {},
   "outputs": [
    {
     "name": "stdout",
     "output_type": "stream",
     "text": [
      "\\begin{equation}\n",
      "\\left[\n",
      "\\begin{array}{cccccc}\n",
      "1 & 0 & 0 & 0 & 0 & 0 \\\\\n",
      "0 & 1 & 0 & 0 & 0 & 0 \\\\\n",
      "0 & 0 & 0 & 1 & 0 & 0 \\\\\n",
      "0 & 1 & 0 & 0 & 0 & 0 \\\\\n",
      "0 & 0 & 1 & 0 & 0 & 0 \\\\\n",
      "0 & 0 & 0 & 0 & 1 & 0 \\\\\n",
      "0 & 0 & 0 & 1 & 0 & 0 \\\\\n",
      "0 & 0 & 0 & 0 & 1 & 0 \\\\\n",
      "0 & 0 & 0 & 0 & 0 & 1 \\\\\n",
      "\\end{array}\n",
      "\\right]\n",
      "\\end{equation}\n"
     ]
    }
   ],
   "source": [
    "print(latexify(A))"
   ]
  },
  {
   "cell_type": "markdown",
   "metadata": {},
   "source": []
  },
  {
   "cell_type": "code",
   "execution_count": null,
   "metadata": {},
   "outputs": [],
   "source": [
    "A = [1 0 0;\n",
    "     0 1 0;\n",
    "     0 1 0;\n",
    "     0 0 1];\n"
   ]
  }
 ],
 "metadata": {
  "kernelspec": {
   "display_name": "Julia 1.6.5",
   "language": "julia",
   "name": "julia-1.6"
  },
  "language_info": {
   "file_extension": ".jl",
   "mimetype": "application/julia",
   "name": "julia",
   "version": "1.6.5"
  },
  "orig_nbformat": 4
 },
 "nbformat": 4,
 "nbformat_minor": 2
}
